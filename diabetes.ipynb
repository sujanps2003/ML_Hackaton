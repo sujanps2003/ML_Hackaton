{
 "cells": [
  {
   "cell_type": "code",
   "execution_count": 49,
   "id": "b4794e0d",
   "metadata": {},
   "outputs": [],
   "source": [
    "import pandas as pd\n",
    "import numpy as np"
   ]
  },
  {
   "cell_type": "code",
   "execution_count": 50,
   "id": "f838ed1e",
   "metadata": {},
   "outputs": [],
   "source": [
    "df =pd.read_csv(\"The Lannister Data Chronicles_ Decrypting Diabetes.csv\")"
   ]
  },
  {
   "cell_type": "code",
   "execution_count": 51,
   "id": "92a0903a",
   "metadata": {},
   "outputs": [
    {
     "data": {
      "text/plain": [
       "(253680, 22)"
      ]
     },
     "execution_count": 51,
     "metadata": {},
     "output_type": "execute_result"
    }
   ],
   "source": [
    "df.shape"
   ]
  },
  {
   "cell_type": "code",
   "execution_count": 52,
   "id": "7e9adebf",
   "metadata": {},
   "outputs": [
    {
     "data": {
      "text/html": [
       "<div>\n",
       "<style scoped>\n",
       "    .dataframe tbody tr th:only-of-type {\n",
       "        vertical-align: middle;\n",
       "    }\n",
       "\n",
       "    .dataframe tbody tr th {\n",
       "        vertical-align: top;\n",
       "    }\n",
       "\n",
       "    .dataframe thead th {\n",
       "        text-align: right;\n",
       "    }\n",
       "</style>\n",
       "<table border=\"1\" class=\"dataframe\">\n",
       "  <thead>\n",
       "    <tr style=\"text-align: right;\">\n",
       "      <th></th>\n",
       "      <th>Diabetes_012</th>\n",
       "      <th>HighBP</th>\n",
       "      <th>HighChol</th>\n",
       "      <th>CholCheck</th>\n",
       "      <th>BMI</th>\n",
       "      <th>Smoker</th>\n",
       "      <th>Stroke</th>\n",
       "      <th>HeartDiseaseorAttack</th>\n",
       "      <th>PhysActivity</th>\n",
       "      <th>Fruits</th>\n",
       "      <th>...</th>\n",
       "      <th>AnyHealthcare</th>\n",
       "      <th>NoDocbcCost</th>\n",
       "      <th>GenHlth</th>\n",
       "      <th>MentHlth</th>\n",
       "      <th>PhysHlth</th>\n",
       "      <th>DiffWalk</th>\n",
       "      <th>Sex</th>\n",
       "      <th>Age</th>\n",
       "      <th>Education</th>\n",
       "      <th>Income</th>\n",
       "    </tr>\n",
       "  </thead>\n",
       "  <tbody>\n",
       "    <tr>\n",
       "      <th>0</th>\n",
       "      <td>0</td>\n",
       "      <td>1</td>\n",
       "      <td>1</td>\n",
       "      <td>1</td>\n",
       "      <td>40</td>\n",
       "      <td>1</td>\n",
       "      <td>0</td>\n",
       "      <td>0</td>\n",
       "      <td>0</td>\n",
       "      <td>0</td>\n",
       "      <td>...</td>\n",
       "      <td>1</td>\n",
       "      <td>0</td>\n",
       "      <td>5</td>\n",
       "      <td>18</td>\n",
       "      <td>15</td>\n",
       "      <td>1</td>\n",
       "      <td>0</td>\n",
       "      <td>9</td>\n",
       "      <td>4</td>\n",
       "      <td>3</td>\n",
       "    </tr>\n",
       "    <tr>\n",
       "      <th>1</th>\n",
       "      <td>0</td>\n",
       "      <td>0</td>\n",
       "      <td>0</td>\n",
       "      <td>0</td>\n",
       "      <td>25</td>\n",
       "      <td>1</td>\n",
       "      <td>0</td>\n",
       "      <td>0</td>\n",
       "      <td>1</td>\n",
       "      <td>0</td>\n",
       "      <td>...</td>\n",
       "      <td>0</td>\n",
       "      <td>1</td>\n",
       "      <td>3</td>\n",
       "      <td>0</td>\n",
       "      <td>0</td>\n",
       "      <td>0</td>\n",
       "      <td>0</td>\n",
       "      <td>7</td>\n",
       "      <td>6</td>\n",
       "      <td>1</td>\n",
       "    </tr>\n",
       "    <tr>\n",
       "      <th>2</th>\n",
       "      <td>0</td>\n",
       "      <td>1</td>\n",
       "      <td>1</td>\n",
       "      <td>1</td>\n",
       "      <td>28</td>\n",
       "      <td>0</td>\n",
       "      <td>0</td>\n",
       "      <td>0</td>\n",
       "      <td>0</td>\n",
       "      <td>1</td>\n",
       "      <td>...</td>\n",
       "      <td>1</td>\n",
       "      <td>1</td>\n",
       "      <td>5</td>\n",
       "      <td>30</td>\n",
       "      <td>30</td>\n",
       "      <td>1</td>\n",
       "      <td>0</td>\n",
       "      <td>9</td>\n",
       "      <td>4</td>\n",
       "      <td>8</td>\n",
       "    </tr>\n",
       "    <tr>\n",
       "      <th>3</th>\n",
       "      <td>0</td>\n",
       "      <td>1</td>\n",
       "      <td>0</td>\n",
       "      <td>1</td>\n",
       "      <td>27</td>\n",
       "      <td>0</td>\n",
       "      <td>0</td>\n",
       "      <td>0</td>\n",
       "      <td>1</td>\n",
       "      <td>1</td>\n",
       "      <td>...</td>\n",
       "      <td>1</td>\n",
       "      <td>0</td>\n",
       "      <td>2</td>\n",
       "      <td>0</td>\n",
       "      <td>0</td>\n",
       "      <td>0</td>\n",
       "      <td>0</td>\n",
       "      <td>11</td>\n",
       "      <td>3</td>\n",
       "      <td>6</td>\n",
       "    </tr>\n",
       "    <tr>\n",
       "      <th>4</th>\n",
       "      <td>0</td>\n",
       "      <td>1</td>\n",
       "      <td>1</td>\n",
       "      <td>1</td>\n",
       "      <td>24</td>\n",
       "      <td>0</td>\n",
       "      <td>0</td>\n",
       "      <td>0</td>\n",
       "      <td>1</td>\n",
       "      <td>1</td>\n",
       "      <td>...</td>\n",
       "      <td>1</td>\n",
       "      <td>0</td>\n",
       "      <td>2</td>\n",
       "      <td>3</td>\n",
       "      <td>0</td>\n",
       "      <td>0</td>\n",
       "      <td>0</td>\n",
       "      <td>11</td>\n",
       "      <td>5</td>\n",
       "      <td>4</td>\n",
       "    </tr>\n",
       "  </tbody>\n",
       "</table>\n",
       "<p>5 rows × 22 columns</p>\n",
       "</div>"
      ],
      "text/plain": [
       "   Diabetes_012  HighBP  HighChol  CholCheck  BMI  Smoker  Stroke  \\\n",
       "0             0       1         1          1   40       1       0   \n",
       "1             0       0         0          0   25       1       0   \n",
       "2             0       1         1          1   28       0       0   \n",
       "3             0       1         0          1   27       0       0   \n",
       "4             0       1         1          1   24       0       0   \n",
       "\n",
       "   HeartDiseaseorAttack  PhysActivity  Fruits  ...  AnyHealthcare  \\\n",
       "0                     0             0       0  ...              1   \n",
       "1                     0             1       0  ...              0   \n",
       "2                     0             0       1  ...              1   \n",
       "3                     0             1       1  ...              1   \n",
       "4                     0             1       1  ...              1   \n",
       "\n",
       "   NoDocbcCost  GenHlth  MentHlth  PhysHlth  DiffWalk  Sex  Age  Education  \\\n",
       "0            0        5        18        15         1    0    9          4   \n",
       "1            1        3         0         0         0    0    7          6   \n",
       "2            1        5        30        30         1    0    9          4   \n",
       "3            0        2         0         0         0    0   11          3   \n",
       "4            0        2         3         0         0    0   11          5   \n",
       "\n",
       "   Income  \n",
       "0       3  \n",
       "1       1  \n",
       "2       8  \n",
       "3       6  \n",
       "4       4  \n",
       "\n",
       "[5 rows x 22 columns]"
      ]
     },
     "execution_count": 52,
     "metadata": {},
     "output_type": "execute_result"
    }
   ],
   "source": [
    "df.head()"
   ]
  },
  {
   "cell_type": "code",
   "execution_count": 53,
   "id": "125fe82b",
   "metadata": {},
   "outputs": [],
   "source": [
    "df=df.drop_duplicates()"
   ]
  },
  {
   "cell_type": "code",
   "execution_count": 54,
   "id": "9749ece7",
   "metadata": {},
   "outputs": [
    {
     "name": "stdout",
     "output_type": "stream",
     "text": [
      "<class 'pandas.core.frame.DataFrame'>\n",
      "Index: 229781 entries, 0 to 253679\n",
      "Data columns (total 22 columns):\n",
      " #   Column                Non-Null Count   Dtype\n",
      "---  ------                --------------   -----\n",
      " 0   Diabetes_012          229781 non-null  int64\n",
      " 1   HighBP                229781 non-null  int64\n",
      " 2   HighChol              229781 non-null  int64\n",
      " 3   CholCheck             229781 non-null  int64\n",
      " 4   BMI                   229781 non-null  int64\n",
      " 5   Smoker                229781 non-null  int64\n",
      " 6   Stroke                229781 non-null  int64\n",
      " 7   HeartDiseaseorAttack  229781 non-null  int64\n",
      " 8   PhysActivity          229781 non-null  int64\n",
      " 9   Fruits                229781 non-null  int64\n",
      " 10  Veggies               229781 non-null  int64\n",
      " 11  HvyAlcoholConsump     229781 non-null  int64\n",
      " 12  AnyHealthcare         229781 non-null  int64\n",
      " 13  NoDocbcCost           229781 non-null  int64\n",
      " 14  GenHlth               229781 non-null  int64\n",
      " 15  MentHlth              229781 non-null  int64\n",
      " 16  PhysHlth              229781 non-null  int64\n",
      " 17  DiffWalk              229781 non-null  int64\n",
      " 18  Sex                   229781 non-null  int64\n",
      " 19  Age                   229781 non-null  int64\n",
      " 20  Education             229781 non-null  int64\n",
      " 21  Income                229781 non-null  int64\n",
      "dtypes: int64(22)\n",
      "memory usage: 40.3 MB\n"
     ]
    }
   ],
   "source": [
    "df.info()"
   ]
  },
  {
   "cell_type": "code",
   "execution_count": 55,
   "id": "fce9696c",
   "metadata": {},
   "outputs": [
    {
     "data": {
      "text/plain": [
       "Diabetes_012\n",
       "0    190055\n",
       "2     35097\n",
       "1      4629\n",
       "Name: count, dtype: int64"
      ]
     },
     "execution_count": 55,
     "metadata": {},
     "output_type": "execute_result"
    }
   ],
   "source": [
    "df.Diabetes_012.value_counts()"
   ]
  },
  {
   "cell_type": "code",
   "execution_count": 56,
   "id": "3a8deda6",
   "metadata": {},
   "outputs": [
    {
     "data": {
      "text/plain": [
       "NoDocbcCost\n",
       "0    208455\n",
       "1     21326\n",
       "Name: count, dtype: int64"
      ]
     },
     "execution_count": 56,
     "metadata": {},
     "output_type": "execute_result"
    }
   ],
   "source": [
    "df.NoDocbcCost.value_counts()"
   ]
  },
  {
   "cell_type": "code",
   "execution_count": 57,
   "id": "cb310f59",
   "metadata": {},
   "outputs": [
    {
     "data": {
      "text/plain": [
       "DiffWalk\n",
       "0    187155\n",
       "1     42626\n",
       "Name: count, dtype: int64"
      ]
     },
     "execution_count": 57,
     "metadata": {},
     "output_type": "execute_result"
    }
   ],
   "source": [
    "df.DiffWalk.value_counts()"
   ]
  },
  {
   "cell_type": "code",
   "execution_count": 58,
   "id": "42db0112",
   "metadata": {},
   "outputs": [],
   "source": [
    "df=df.drop(columns='Income')"
   ]
  },
  {
   "cell_type": "code",
   "execution_count": 59,
   "id": "cbe976ea",
   "metadata": {},
   "outputs": [],
   "source": [
    "df=df.drop(columns='Education')"
   ]
  },
  {
   "cell_type": "code",
   "execution_count": 60,
   "id": "35345092",
   "metadata": {},
   "outputs": [
    {
     "name": "stdout",
     "output_type": "stream",
     "text": [
      "<class 'pandas.core.frame.DataFrame'>\n",
      "Index: 229781 entries, 0 to 253679\n",
      "Data columns (total 20 columns):\n",
      " #   Column                Non-Null Count   Dtype\n",
      "---  ------                --------------   -----\n",
      " 0   Diabetes_012          229781 non-null  int64\n",
      " 1   HighBP                229781 non-null  int64\n",
      " 2   HighChol              229781 non-null  int64\n",
      " 3   CholCheck             229781 non-null  int64\n",
      " 4   BMI                   229781 non-null  int64\n",
      " 5   Smoker                229781 non-null  int64\n",
      " 6   Stroke                229781 non-null  int64\n",
      " 7   HeartDiseaseorAttack  229781 non-null  int64\n",
      " 8   PhysActivity          229781 non-null  int64\n",
      " 9   Fruits                229781 non-null  int64\n",
      " 10  Veggies               229781 non-null  int64\n",
      " 11  HvyAlcoholConsump     229781 non-null  int64\n",
      " 12  AnyHealthcare         229781 non-null  int64\n",
      " 13  NoDocbcCost           229781 non-null  int64\n",
      " 14  GenHlth               229781 non-null  int64\n",
      " 15  MentHlth              229781 non-null  int64\n",
      " 16  PhysHlth              229781 non-null  int64\n",
      " 17  DiffWalk              229781 non-null  int64\n",
      " 18  Sex                   229781 non-null  int64\n",
      " 19  Age                   229781 non-null  int64\n",
      "dtypes: int64(20)\n",
      "memory usage: 36.8 MB\n"
     ]
    }
   ],
   "source": [
    "df.info()"
   ]
  },
  {
   "cell_type": "code",
   "execution_count": 61,
   "id": "c4818517",
   "metadata": {},
   "outputs": [],
   "source": [
    "df=df.drop(columns='NoDocbcCost')"
   ]
  },
  {
   "cell_type": "code",
   "execution_count": 64,
   "id": "d9edcc06",
   "metadata": {},
   "outputs": [
    {
     "name": "stdout",
     "output_type": "stream",
     "text": [
      "<class 'pandas.core.frame.DataFrame'>\n",
      "Index: 229781 entries, 0 to 253679\n",
      "Data columns (total 19 columns):\n",
      " #   Column                Non-Null Count   Dtype\n",
      "---  ------                --------------   -----\n",
      " 0   Diabetes_012          229781 non-null  int64\n",
      " 1   HighBP                229781 non-null  int64\n",
      " 2   HighChol              229781 non-null  int64\n",
      " 3   CholCheck             229781 non-null  int64\n",
      " 4   BMI                   229781 non-null  int64\n",
      " 5   Smoker                229781 non-null  int64\n",
      " 6   Stroke                229781 non-null  int64\n",
      " 7   HeartDiseaseorAttack  229781 non-null  int64\n",
      " 8   PhysActivity          229781 non-null  int64\n",
      " 9   Fruits                229781 non-null  int64\n",
      " 10  Veggies               229781 non-null  int64\n",
      " 11  HvyAlcoholConsump     229781 non-null  int64\n",
      " 12  AnyHealthcare         229781 non-null  int64\n",
      " 13  GenHlth               229781 non-null  int64\n",
      " 14  MentHlth              229781 non-null  int64\n",
      " 15  PhysHlth              229781 non-null  int64\n",
      " 16  DiffWalk              229781 non-null  int64\n",
      " 17  Sex                   229781 non-null  int64\n",
      " 18  Age                   229781 non-null  int64\n",
      "dtypes: int64(19)\n",
      "memory usage: 35.1 MB\n"
     ]
    }
   ],
   "source": [
    "df.info()"
   ]
  },
  {
   "cell_type": "code",
   "execution_count": 65,
   "id": "6c22880e",
   "metadata": {},
   "outputs": [],
   "source": [
    "df= df.drop(columns='Sex')"
   ]
  },
  {
   "cell_type": "code",
   "execution_count": 66,
   "id": "ac653eb3",
   "metadata": {},
   "outputs": [
    {
     "name": "stdout",
     "output_type": "stream",
     "text": [
      "<class 'pandas.core.frame.DataFrame'>\n",
      "Index: 229781 entries, 0 to 253679\n",
      "Data columns (total 18 columns):\n",
      " #   Column                Non-Null Count   Dtype\n",
      "---  ------                --------------   -----\n",
      " 0   Diabetes_012          229781 non-null  int64\n",
      " 1   HighBP                229781 non-null  int64\n",
      " 2   HighChol              229781 non-null  int64\n",
      " 3   CholCheck             229781 non-null  int64\n",
      " 4   BMI                   229781 non-null  int64\n",
      " 5   Smoker                229781 non-null  int64\n",
      " 6   Stroke                229781 non-null  int64\n",
      " 7   HeartDiseaseorAttack  229781 non-null  int64\n",
      " 8   PhysActivity          229781 non-null  int64\n",
      " 9   Fruits                229781 non-null  int64\n",
      " 10  Veggies               229781 non-null  int64\n",
      " 11  HvyAlcoholConsump     229781 non-null  int64\n",
      " 12  AnyHealthcare         229781 non-null  int64\n",
      " 13  GenHlth               229781 non-null  int64\n",
      " 14  MentHlth              229781 non-null  int64\n",
      " 15  PhysHlth              229781 non-null  int64\n",
      " 16  DiffWalk              229781 non-null  int64\n",
      " 17  Age                   229781 non-null  int64\n",
      "dtypes: int64(18)\n",
      "memory usage: 33.3 MB\n"
     ]
    }
   ],
   "source": [
    "df.info()"
   ]
  },
  {
   "cell_type": "code",
   "execution_count": 68,
   "id": "7d68adff",
   "metadata": {},
   "outputs": [
    {
     "name": "stdout",
     "output_type": "stream",
     "text": [
      "Collecting missingno\n",
      "  Obtaining dependency information for missingno from https://files.pythonhosted.org/packages/87/22/cd5cf999af21c2f97486622c551ac3d07361ced8125121e907f588ff5f24/missingno-0.5.2-py3-none-any.whl.metadata\n",
      "  Downloading missingno-0.5.2-py3-none-any.whl.metadata (639 bytes)\n",
      "Requirement already satisfied: numpy in c:\\users\\ruchitha\\anaconda3\\lib\\site-packages (from missingno) (1.26.2)\n",
      "Requirement already satisfied: matplotlib in c:\\users\\ruchitha\\anaconda3\\lib\\site-packages (from missingno) (3.7.2)\n",
      "Requirement already satisfied: scipy in c:\\users\\ruchitha\\anaconda3\\lib\\site-packages (from missingno) (1.11.1)\n",
      "Requirement already satisfied: seaborn in c:\\users\\ruchitha\\anaconda3\\lib\\site-packages (from missingno) (0.12.2)\n",
      "Requirement already satisfied: contourpy>=1.0.1 in c:\\users\\ruchitha\\anaconda3\\lib\\site-packages (from matplotlib->missingno) (1.0.5)\n",
      "Requirement already satisfied: cycler>=0.10 in c:\\users\\ruchitha\\anaconda3\\lib\\site-packages (from matplotlib->missingno) (0.11.0)\n",
      "Requirement already satisfied: fonttools>=4.22.0 in c:\\users\\ruchitha\\anaconda3\\lib\\site-packages (from matplotlib->missingno) (4.25.0)\n",
      "Requirement already satisfied: kiwisolver>=1.0.1 in c:\\users\\ruchitha\\anaconda3\\lib\\site-packages (from matplotlib->missingno) (1.4.4)\n",
      "Requirement already satisfied: packaging>=20.0 in c:\\users\\ruchitha\\anaconda3\\lib\\site-packages (from matplotlib->missingno) (23.1)\n",
      "Requirement already satisfied: pillow>=6.2.0 in c:\\users\\ruchitha\\anaconda3\\lib\\site-packages (from matplotlib->missingno) (9.4.0)\n",
      "Requirement already satisfied: pyparsing<3.1,>=2.3.1 in c:\\users\\ruchitha\\anaconda3\\lib\\site-packages (from matplotlib->missingno) (3.0.9)\n",
      "Requirement already satisfied: python-dateutil>=2.7 in c:\\users\\ruchitha\\anaconda3\\lib\\site-packages (from matplotlib->missingno) (2.8.2)\n",
      "Requirement already satisfied: pandas>=0.25 in c:\\users\\ruchitha\\anaconda3\\lib\\site-packages (from seaborn->missingno) (2.1.4)\n",
      "Requirement already satisfied: pytz>=2020.1 in c:\\users\\ruchitha\\anaconda3\\lib\\site-packages (from pandas>=0.25->seaborn->missingno) (2023.3.post1)\n",
      "Requirement already satisfied: tzdata>=2022.1 in c:\\users\\ruchitha\\anaconda3\\lib\\site-packages (from pandas>=0.25->seaborn->missingno) (2023.3)\n",
      "Requirement already satisfied: six>=1.5 in c:\\users\\ruchitha\\anaconda3\\lib\\site-packages (from python-dateutil>=2.7->matplotlib->missingno) (1.16.0)\n",
      "Downloading missingno-0.5.2-py3-none-any.whl (8.7 kB)\n",
      "Installing collected packages: missingno\n",
      "Successfully installed missingno-0.5.2\n",
      "Note: you may need to restart the kernel to use updated packages.\n"
     ]
    }
   ],
   "source": [
    "pip install missingno"
   ]
  },
  {
   "cell_type": "code",
   "execution_count": 69,
   "id": "60274eb7",
   "metadata": {},
   "outputs": [
    {
     "data": {
      "text/plain": [
       "<Axes: >"
      ]
     },
     "execution_count": 69,
     "metadata": {},
     "output_type": "execute_result"
    },
    {
     "data": {
      "image/png": "[encoded data removed]",
      "text/plain": [
       "<Figure size 2500x1000 with 3 Axes>"
      ]
     },
     "metadata": {},
     "output_type": "display_data"
    }
   ],
   "source": [
    "import missingno as ms\n",
    "ms.bar(df)"
   ]
  },
  {
   "cell_type": "code",
   "execution_count": 70,
   "id": "8c601831",
   "metadata": {},
   "outputs": [
    {
     "data": {
      "text/plain": [
       "MentHlth\n",
       "0     152623\n",
       "2      12697\n",
       "30     12080\n",
       "5       8913\n",
       "1       8309\n",
       "3       7302\n",
       "10      6352\n",
       "15      5501\n",
       "4       3774\n",
       "20      3362\n",
       "7       3090\n",
       "25      1188\n",
       "14      1167\n",
       "6        988\n",
       "8        639\n",
       "12       398\n",
       "28       327\n",
       "21       227\n",
       "29       158\n",
       "18        97\n",
       "9         91\n",
       "16        88\n",
       "27        79\n",
       "22        63\n",
       "17        54\n",
       "26        45\n",
       "11        41\n",
       "13        41\n",
       "23        38\n",
       "24        33\n",
       "19        16\n",
       "Name: count, dtype: int64"
      ]
     },
     "execution_count": 70,
     "metadata": {},
     "output_type": "execute_result"
    }
   ],
   "source": [
    "df.MentHlth.value_counts()"
   ]
  },
  {
   "cell_type": "code",
   "execution_count": 71,
   "id": "5ef4fd12",
   "metadata": {},
   "outputs": [
    {
     "name": "stdout",
     "output_type": "stream",
     "text": [
      "<class 'pandas.core.frame.DataFrame'>\n",
      "Index: 229781 entries, 0 to 253679\n",
      "Data columns (total 18 columns):\n",
      " #   Column                Non-Null Count   Dtype\n",
      "---  ------                --------------   -----\n",
      " 0   Diabetes_012          229781 non-null  int64\n",
      " 1   HighBP                229781 non-null  int64\n",
      " 2   HighChol              229781 non-null  int64\n",
      " 3   CholCheck             229781 non-null  int64\n",
      " 4   BMI                   229781 non-null  int64\n",
      " 5   Smoker                229781 non-null  int64\n",
      " 6   Stroke                229781 non-null  int64\n",
      " 7   HeartDiseaseorAttack  229781 non-null  int64\n",
      " 8   PhysActivity          229781 non-null  int64\n",
      " 9   Fruits                229781 non-null  int64\n",
      " 10  Veggies               229781 non-null  int64\n",
      " 11  HvyAlcoholConsump     229781 non-null  int64\n",
      " 12  AnyHealthcare         229781 non-null  int64\n",
      " 13  GenHlth               229781 non-null  int64\n",
      " 14  MentHlth              229781 non-null  int64\n",
      " 15  PhysHlth              229781 non-null  int64\n",
      " 16  DiffWalk              229781 non-null  int64\n",
      " 17  Age                   229781 non-null  int64\n",
      "dtypes: int64(18)\n",
      "memory usage: 33.3 MB\n"
     ]
    }
   ],
   "source": [
    "df.info()"
   ]
  },
  {
   "cell_type": "code",
   "execution_count": 72,
   "id": "967e7e04",
   "metadata": {},
   "outputs": [],
   "source": [
    "df.to_csv('cleaned_data.csv',index=False)"
   ]
  },
  {
   "cell_type": "code",
   "execution_count": 73,
   "id": "1c071428",
   "metadata": {},
   "outputs": [],
   "source": [
    "df= df.drop(columns=['Stroke','CholCheck'])"
   ]
  },
  {
   "cell_type": "code",
   "execution_count": 74,
   "id": "dc540fcb",
   "metadata": {},
   "outputs": [
    {
     "name": "stdout",
     "output_type": "stream",
     "text": [
      "<class 'pandas.core.frame.DataFrame'>\n",
      "Index: 229781 entries, 0 to 253679\n",
      "Data columns (total 16 columns):\n",
      " #   Column                Non-Null Count   Dtype\n",
      "---  ------                --------------   -----\n",
      " 0   Diabetes_012          229781 non-null  int64\n",
      " 1   HighBP                229781 non-null  int64\n",
      " 2   HighChol              229781 non-null  int64\n",
      " 3   BMI                   229781 non-null  int64\n",
      " 4   Smoker                229781 non-null  int64\n",
      " 5   HeartDiseaseorAttack  229781 non-null  int64\n",
      " 6   PhysActivity          229781 non-null  int64\n",
      " 7   Fruits                229781 non-null  int64\n",
      " 8   Veggies               229781 non-null  int64\n",
      " 9   HvyAlcoholConsump     229781 non-null  int64\n",
      " 10  AnyHealthcare         229781 non-null  int64\n",
      " 11  GenHlth               229781 non-null  int64\n",
      " 12  MentHlth              229781 non-null  int64\n",
      " 13  PhysHlth              229781 non-null  int64\n",
      " 14  DiffWalk              229781 non-null  int64\n",
      " 15  Age                   229781 non-null  int64\n",
      "dtypes: int64(16)\n",
      "memory usage: 29.8 MB\n"
     ]
    }
   ],
   "source": [
    "df.info()"
   ]
  },
  {
   "cell_type": "code",
   "execution_count": 75,
   "id": "f2fa00be",
   "metadata": {},
   "outputs": [],
   "source": [
    "df.to_csv('cleaned_data_1.csv')"
   ]
  },
  {
   "cell_type": "code",
   "execution_count": 79,
   "id": "ebfad4d2",
   "metadata": {},
   "outputs": [
    {
     "data": {
      "text/plain": [
       "0"
      ]
     },
     "execution_count": 79,
     "metadata": {},
     "output_type": "execute_result"
    }
   ],
   "source": [
    "df['Age'].isnull().sum()"
   ]
  },
  {
   "cell_type": "code",
   "execution_count": 80,
   "id": "a9b80e5d",
   "metadata": {},
   "outputs": [
    {
     "data": {
      "text/plain": [
       "HvyAlcoholConsump\n",
       "0    215831\n",
       "1     13950\n",
       "Name: count, dtype: int64"
      ]
     },
     "execution_count": 80,
     "metadata": {},
     "output_type": "execute_result"
    }
   ],
   "source": [
    "df.HvyAlcoholConsump.value_counts()"
   ]
  },
  {
   "cell_type": "code",
   "execution_count": 81,
   "id": "517d73a9",
   "metadata": {},
   "outputs": [
    {
     "data": {
      "text/plain": [
       "AnyHealthcare\n",
       "1    217390\n",
       "0     12391\n",
       "Name: count, dtype: int64"
      ]
     },
     "execution_count": 81,
     "metadata": {},
     "output_type": "execute_result"
    }
   ],
   "source": [
    "df.AnyHealthcare.value_counts()"
   ]
  },
  {
   "cell_type": "code",
   "execution_count": null,
   "id": "42a3e6c7",
   "metadata": {},
   "outputs": [],
   "source": []
  }
 ],
 "metadata": {
  "kernelspec": {
   "display_name": "Python 3 (ipykernel)",
   "language": "python",
   "name": "python3"
  },
  "language_info": {
   "codemirror_mode": {
    "name": "ipython",
    "version": 3
   },
   "file_extension": ".py",
   "mimetype": "text/x-python",
   "name": "python",
   "nbconvert_exporter": "python",
   "pygments_lexer": "ipython3",
   "version": "3.11.5"
  }
 },
 "nbformat": 4,
 "nbformat_minor": 5
}
